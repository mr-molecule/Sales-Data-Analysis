{
 "cells": [
  {
   "cell_type": "markdown",
   "id": "670e0c82",
   "metadata": {},
   "source": [
    "### Importing Libraries"
   ]
  },
  {
   "cell_type": "code",
   "execution_count": 102,
   "id": "244f02a2",
   "metadata": {},
   "outputs": [],
   "source": [
    "import pandas as pd\n",
    "import os\n",
    "import matplotlib.pyplot as plt\n",
    "from itertools import combinations\n",
    "from collections import Counter"
   ]
  },
  {
   "cell_type": "markdown",
   "id": "68e9aff2",
   "metadata": {},
   "source": [
    "### Merging the all month data"
   ]
  },
  {
   "cell_type": "code",
   "execution_count": 3,
   "id": "bb89f28f",
   "metadata": {
    "scrolled": false
   },
   "outputs": [],
   "source": [
    "path = input('Enter your path: ')"
   ]
  },
  {
   "cell_type": "code",
   "execution_count": 4,
   "id": "e633563c",
   "metadata": {
    "scrolled": true
   },
   "outputs": [],
   "source": [
    "filename = input('Enter the File Name for Merged Data: ')"
   ]
  },
  {
   "cell_type": "code",
   "execution_count": 106,
   "id": "6bc79f01",
   "metadata": {},
   "outputs": [],
   "source": [
    "files = [file for file in os.listdir(path)]\n",
    "all_months_data = pd.DataFrame()\n",
    "\n",
    "for file in files:\n",
    "    all_months_data = pd.concat([all_months_data,pd.read_csv(path +'\\\\'+ file)])  \n",
    "\n",
    "all_months_data.to_csv(path+'\\\\'+filename+'.csv',index = False)"
   ]
  },
  {
   "cell_type": "code",
   "execution_count": 107,
   "id": "5f7670df",
   "metadata": {},
   "outputs": [],
   "source": [
    "#Read the merged data\n",
    "all_data = pd.read_csv (path+'\\\\'+filename+'.csv')"
   ]
  },
  {
   "cell_type": "markdown",
   "id": "24caa882",
   "metadata": {},
   "source": [
    "### Cleaning the data & Adding the required columns"
   ]
  },
  {
   "cell_type": "code",
   "execution_count": null,
   "id": "97ef4040",
   "metadata": {},
   "outputs": [],
   "source": [
    "all_data = all_data.dropna(how='all')"
   ]
  },
  {
   "cell_type": "code",
   "execution_count": 120,
   "id": "dca38930",
   "metadata": {},
   "outputs": [],
   "source": [
    "all_data['Month'] = all_data['Order Date'].str[0:2]\n",
    "all_data['City'] = all_data['Purchase Address'].str.split(',').str[1]"
   ]
  },
  {
   "cell_type": "code",
   "execution_count": 123,
   "id": "50465694",
   "metadata": {},
   "outputs": [],
   "source": [
    "all_data = all_data[all_data['Month'] != 'Or']"
   ]
  },
  {
   "cell_type": "code",
   "execution_count": 124,
   "id": "739672c9",
   "metadata": {},
   "outputs": [],
   "source": [
    "all_data['Quantity Ordered'] = pd.to_numeric(all_data['Quantity Ordered'])\n",
    "all_data['Price Each'] = pd.to_numeric(all_data['Price Each'])"
   ]
  },
  {
   "cell_type": "code",
   "execution_count": 125,
   "id": "a06a8e6f",
   "metadata": {},
   "outputs": [
    {
     "name": "stderr",
     "output_type": "stream",
     "text": [
      "C:\\Users\\admin\\AppData\\Local\\Temp\\ipykernel_13244\\3842191188.py:1: UserWarning: Could not infer format, so each element will be parsed individually, falling back to `dateutil`. To ensure parsing is consistent and as-expected, please specify a format.\n",
      "  all_data['Order Date'] = pd.to_datetime(all_data['Order Date'])\n"
     ]
    }
   ],
   "source": [
    "all_data['Order Date'] = pd.to_datetime(all_data['Order Date'])"
   ]
  },
  {
   "cell_type": "code",
   "execution_count": 126,
   "id": "8e8c31f1",
   "metadata": {},
   "outputs": [],
   "source": [
    "#Sales Column\n",
    "all_data['Sales'] = all_data['Quantity Ordered'] * all_data['Price Each']"
   ]
  },
  {
   "cell_type": "markdown",
   "id": "3ea9b278",
   "metadata": {},
   "source": [
    "### Question 1: What was the best month for sales ? How much was earned that month ?\n"
   ]
  },
  {
   "cell_type": "code",
   "execution_count": 130,
   "id": "863531dd",
   "metadata": {},
   "outputs": [],
   "source": [
    "results = all_data.groupby('Month').sum('Sales')"
   ]
  },
  {
   "cell_type": "markdown",
   "id": "814185b0",
   "metadata": {},
   "source": [
    "### Plotting Values"
   ]
  },
  {
   "cell_type": "code",
   "execution_count": 133,
   "id": "c96f8432",
   "metadata": {},
   "outputs": [
    {
     "data": {
      "image/png": "[encoded data removed]",
      "text/plain": [
       "<Figure size 640x480 with 1 Axes>"
      ]
     },
     "metadata": {},
     "output_type": "display_data"
    }
   ],
   "source": [
    "months = range(1,13)\n",
    "\n",
    "plt.bar(months,results['Sales'])\n",
    "plt.xticks(months)\n",
    "plt.ylabel('Sales in USD')\n",
    "plt.xlabel('Month')\n",
    "plt.show()"
   ]
  },
  {
   "cell_type": "markdown",
   "id": "452a78a4",
   "metadata": {},
   "source": [
    "#### Ans : December was the best month for sales & More the 4 Billion were earned on that month"
   ]
  },
  {
   "cell_type": "markdown",
   "id": "93a6a173",
   "metadata": {},
   "source": [
    "### Question 2: Which city had the highest number of sales ?"
   ]
  },
  {
   "cell_type": "code",
   "execution_count": 134,
   "id": "8ba187ac",
   "metadata": {},
   "outputs": [
    {
     "data": {
      "text/html": [
       "<div>\n",
       "<style scoped>\n",
       "    .dataframe tbody tr th:only-of-type {\n",
       "        vertical-align: middle;\n",
       "    }\n",
       "\n",
       "    .dataframe tbody tr th {\n",
       "        vertical-align: top;\n",
       "    }\n",
       "\n",
       "    .dataframe thead th {\n",
       "        text-align: right;\n",
       "    }\n",
       "</style>\n",
       "<table border=\"1\" class=\"dataframe\">\n",
       "  <thead>\n",
       "    <tr style=\"text-align: right;\">\n",
       "      <th></th>\n",
       "      <th>Quantity Ordered</th>\n",
       "      <th>Price Each</th>\n",
       "      <th>Sales</th>\n",
       "    </tr>\n",
       "    <tr>\n",
       "      <th>City</th>\n",
       "      <th></th>\n",
       "      <th></th>\n",
       "      <th></th>\n",
       "    </tr>\n",
       "  </thead>\n",
       "  <tbody>\n",
       "    <tr>\n",
       "      <th>San Francisco</th>\n",
       "      <td>50239</td>\n",
       "      <td>8211461.74</td>\n",
       "      <td>8262203.91</td>\n",
       "    </tr>\n",
       "    <tr>\n",
       "      <th>Los Angeles</th>\n",
       "      <td>33289</td>\n",
       "      <td>5421435.23</td>\n",
       "      <td>5452570.80</td>\n",
       "    </tr>\n",
       "    <tr>\n",
       "      <th>New York City</th>\n",
       "      <td>27932</td>\n",
       "      <td>4635370.83</td>\n",
       "      <td>4664317.43</td>\n",
       "    </tr>\n",
       "    <tr>\n",
       "      <th>Boston</th>\n",
       "      <td>22528</td>\n",
       "      <td>3637409.77</td>\n",
       "      <td>3661642.01</td>\n",
       "    </tr>\n",
       "    <tr>\n",
       "      <th>Atlanta</th>\n",
       "      <td>16602</td>\n",
       "      <td>2779908.20</td>\n",
       "      <td>2795498.58</td>\n",
       "    </tr>\n",
       "    <tr>\n",
       "      <th>Dallas</th>\n",
       "      <td>16730</td>\n",
       "      <td>2752627.82</td>\n",
       "      <td>2767975.40</td>\n",
       "    </tr>\n",
       "    <tr>\n",
       "      <th>Seattle</th>\n",
       "      <td>16553</td>\n",
       "      <td>2733296.01</td>\n",
       "      <td>2747755.48</td>\n",
       "    </tr>\n",
       "    <tr>\n",
       "      <th>Portland</th>\n",
       "      <td>14053</td>\n",
       "      <td>2307747.47</td>\n",
       "      <td>2320490.61</td>\n",
       "    </tr>\n",
       "    <tr>\n",
       "      <th>Austin</th>\n",
       "      <td>11153</td>\n",
       "      <td>1809873.61</td>\n",
       "      <td>1819581.75</td>\n",
       "    </tr>\n",
       "  </tbody>\n",
       "</table>\n",
       "</div>"
      ],
      "text/plain": [
       "                Quantity Ordered  Price Each       Sales\n",
       "City                                                    \n",
       " San Francisco             50239  8211461.74  8262203.91\n",
       " Los Angeles               33289  5421435.23  5452570.80\n",
       " New York City             27932  4635370.83  4664317.43\n",
       " Boston                    22528  3637409.77  3661642.01\n",
       " Atlanta                   16602  2779908.20  2795498.58\n",
       " Dallas                    16730  2752627.82  2767975.40\n",
       " Seattle                   16553  2733296.01  2747755.48\n",
       " Portland                  14053  2307747.47  2320490.61\n",
       " Austin                    11153  1809873.61  1819581.75"
      ]
     },
     "execution_count": 134,
     "metadata": {},
     "output_type": "execute_result"
    }
   ],
   "source": [
    "cities = all_data.groupby('City').sum('Sales')\n",
    "cities.sort_values('Sales', ascending = False)"
   ]
  },
  {
   "cell_type": "code",
   "execution_count": 135,
   "id": "3b01218b",
   "metadata": {},
   "outputs": [
    {
     "data": {
      "image/png": "[encoded data removed]",
      "text/plain": [
       "<Figure size 640x480 with 1 Axes>"
      ]
     },
     "metadata": {},
     "output_type": "display_data"
    }
   ],
   "source": [
    "results = all_data.groupby('City')['Sales'].sum().reset_index()\n",
    "\n",
    "cities = results['City']\n",
    "sales = results['Sales']\n",
    "\n",
    "plt.bar(cities, sales)\n",
    "plt.xticks(rotation='vertical', size=8)\n",
    "plt.ylabel('Sales in USD')\n",
    "plt.xlabel('City Name')\n",
    "plt.show()"
   ]
  },
  {
   "cell_type": "markdown",
   "id": "dae92293",
   "metadata": {},
   "source": [
    "#### Ans: San Francisco has the highest sales"
   ]
  },
  {
   "cell_type": "markdown",
   "id": "77a1d5c6",
   "metadata": {},
   "source": [
    "### Question 3: What time should we display advertisements to maximise the sales "
   ]
  },
  {
   "cell_type": "code",
   "execution_count": 136,
   "id": "30154b95",
   "metadata": {},
   "outputs": [],
   "source": [
    "all_data['Hour'] = all_data['Order Date'].dt.hour"
   ]
  },
  {
   "cell_type": "code",
   "execution_count": 61,
   "id": "f42868c0",
   "metadata": {},
   "outputs": [
    {
     "data": {
      "image/png": "[encoded data removed]",
      "text/plain": [
       "<Figure size 640x480 with 1 Axes>"
      ]
     },
     "metadata": {},
     "output_type": "display_data"
    }
   ],
   "source": [
    "hours = [hour for hour, df in all_data.groupby('Hour')]\n",
    "plt.plot(hours,all_data.groupby(['Hour']).count(),color='green')\n",
    "plt.xticks(hours)\n",
    "plt.grid()\n",
    "plt.show()"
   ]
  },
  {
   "cell_type": "markdown",
   "id": "a5c81061",
   "metadata": {},
   "source": [
    "#### Ans: 12.00 & 19.00 were the best time for advertisments"
   ]
  },
  {
   "cell_type": "markdown",
   "id": "86e145cf",
   "metadata": {},
   "source": [
    "### Question 4: What products are most sold together ?  "
   ]
  },
  {
   "cell_type": "code",
   "execution_count": 69,
   "id": "64b6354d",
   "metadata": {
    "scrolled": true
   },
   "outputs": [
    {
     "name": "stderr",
     "output_type": "stream",
     "text": [
      "C:\\Users\\admin\\AppData\\Local\\Temp\\ipykernel_13244\\4216696774.py:2: SettingWithCopyWarning: \n",
      "A value is trying to be set on a copy of a slice from a DataFrame.\n",
      "Try using .loc[row_indexer,col_indexer] = value instead\n",
      "\n",
      "See the caveats in the documentation: https://pandas.pydata.org/pandas-docs/stable/user_guide/indexing.html#returning-a-view-versus-a-copy\n",
      "  df['Grouped'] = df.groupby('Order ID')['Product'].transform(lambda x: ','.join(x))\n"
     ]
    }
   ],
   "source": [
    "df = all_data[all_data['Order ID'].duplicated(keep=False)]\n",
    "df['Grouped'] = df.groupby('Order ID')['Product'].transform(lambda x: ','.join(x))"
   ]
  },
  {
   "cell_type": "code",
   "execution_count": 70,
   "id": "9ed7cb6e",
   "metadata": {},
   "outputs": [
    {
     "data": {
      "text/plain": [
       "[(('iPhone', 'Lightning Charging Cable'), 1005)]"
      ]
     },
     "execution_count": 70,
     "metadata": {},
     "output_type": "execute_result"
    }
   ],
   "source": [
    "df = df[['Order ID','Grouped']].drop_duplicates()\n",
    "\n",
    "count = Counter()\n",
    "\n",
    "for row in df['Grouped']:\n",
    "    row_list = row.split(',')\n",
    "    count.update(Counter(combinations(row_list,2)))\n",
    "    \n",
    "count.most_common(1)"
   ]
  },
  {
   "cell_type": "markdown",
   "id": "aa669c40",
   "metadata": {},
   "source": [
    "#### Ans: iPhone, Lightning Charging Cable are sold together 1005 times"
   ]
  },
  {
   "cell_type": "markdown",
   "id": "c046fab5",
   "metadata": {},
   "source": [
    "### Question 5: What product sold the most ?"
   ]
  },
  {
   "cell_type": "code",
   "execution_count": 73,
   "id": "17ddf414",
   "metadata": {},
   "outputs": [
    {
     "data": {
      "text/html": [
       "<div>\n",
       "<style scoped>\n",
       "    .dataframe tbody tr th:only-of-type {\n",
       "        vertical-align: middle;\n",
       "    }\n",
       "\n",
       "    .dataframe tbody tr th {\n",
       "        vertical-align: top;\n",
       "    }\n",
       "\n",
       "    .dataframe thead th {\n",
       "        text-align: right;\n",
       "    }\n",
       "</style>\n",
       "<table border=\"1\" class=\"dataframe\">\n",
       "  <thead>\n",
       "    <tr style=\"text-align: right;\">\n",
       "      <th></th>\n",
       "      <th></th>\n",
       "      <th>Quantity Ordered</th>\n",
       "      <th>Price Each</th>\n",
       "      <th>Sales</th>\n",
       "    </tr>\n",
       "    <tr>\n",
       "      <th>Product</th>\n",
       "      <th>Hour</th>\n",
       "      <th></th>\n",
       "      <th></th>\n",
       "      <th></th>\n",
       "    </tr>\n",
       "  </thead>\n",
       "  <tbody>\n",
       "    <tr>\n",
       "      <th rowspan=\"5\" valign=\"top\">AAA Batteries (4-pack)</th>\n",
       "      <th>19</th>\n",
       "      <td>2296</td>\n",
       "      <td>4547.79</td>\n",
       "      <td>6865.04</td>\n",
       "    </tr>\n",
       "    <tr>\n",
       "      <th>11</th>\n",
       "      <td>2127</td>\n",
       "      <td>4153.11</td>\n",
       "      <td>6359.73</td>\n",
       "    </tr>\n",
       "    <tr>\n",
       "      <th>13</th>\n",
       "      <td>2086</td>\n",
       "      <td>4203.94</td>\n",
       "      <td>6237.14</td>\n",
       "    </tr>\n",
       "    <tr>\n",
       "      <th>12</th>\n",
       "      <td>2041</td>\n",
       "      <td>4072.38</td>\n",
       "      <td>6102.59</td>\n",
       "    </tr>\n",
       "    <tr>\n",
       "      <th>18</th>\n",
       "      <td>2023</td>\n",
       "      <td>4084.34</td>\n",
       "      <td>6048.77</td>\n",
       "    </tr>\n",
       "    <tr>\n",
       "      <th>...</th>\n",
       "      <th>...</th>\n",
       "      <td>...</td>\n",
       "      <td>...</td>\n",
       "      <td>...</td>\n",
       "    </tr>\n",
       "    <tr>\n",
       "      <th>LG Dryer</th>\n",
       "      <th>3</th>\n",
       "      <td>4</td>\n",
       "      <td>2400.00</td>\n",
       "      <td>2400.00</td>\n",
       "    </tr>\n",
       "    <tr>\n",
       "      <th>LG Washing Machine</th>\n",
       "      <th>2</th>\n",
       "      <td>3</td>\n",
       "      <td>1800.00</td>\n",
       "      <td>1800.00</td>\n",
       "    </tr>\n",
       "    <tr>\n",
       "      <th rowspan=\"2\" valign=\"top\">LG Dryer</th>\n",
       "      <th>1</th>\n",
       "      <td>2</td>\n",
       "      <td>1200.00</td>\n",
       "      <td>1200.00</td>\n",
       "    </tr>\n",
       "    <tr>\n",
       "      <th>2</th>\n",
       "      <td>1</td>\n",
       "      <td>600.00</td>\n",
       "      <td>600.00</td>\n",
       "    </tr>\n",
       "    <tr>\n",
       "      <th>LG Washing Machine</th>\n",
       "      <th>3</th>\n",
       "      <td>1</td>\n",
       "      <td>600.00</td>\n",
       "      <td>600.00</td>\n",
       "    </tr>\n",
       "  </tbody>\n",
       "</table>\n",
       "<p>456 rows × 3 columns</p>\n",
       "</div>"
      ],
      "text/plain": [
       "                             Quantity Ordered  Price Each    Sales\n",
       "Product                Hour                                       \n",
       "AAA Batteries (4-pack) 19                2296     4547.79  6865.04\n",
       "                       11                2127     4153.11  6359.73\n",
       "                       13                2086     4203.94  6237.14\n",
       "                       12                2041     4072.38  6102.59\n",
       "                       18                2023     4084.34  6048.77\n",
       "...                                       ...         ...      ...\n",
       "LG Dryer               3                    4     2400.00  2400.00\n",
       "LG Washing Machine     2                    3     1800.00  1800.00\n",
       "LG Dryer               1                    2     1200.00  1200.00\n",
       "                       2                    1      600.00   600.00\n",
       "LG Washing Machine     3                    1      600.00   600.00\n",
       "\n",
       "[456 rows x 3 columns]"
      ]
     },
     "execution_count": 73,
     "metadata": {},
     "output_type": "execute_result"
    }
   ],
   "source": [
    "sold_most = all_data.groupby(['Product','Hour']).sum('Quantity Ordered')\n",
    "sold_most.sort_values('Quantity Ordered',ascending = False)"
   ]
  },
  {
   "cell_type": "markdown",
   "id": "4dc827a7",
   "metadata": {},
   "source": [
    "#### Ans: AAA Batteries (4-pack) sold the most "
   ]
  },
  {
   "cell_type": "markdown",
   "id": "3ad4e2ab",
   "metadata": {},
   "source": [
    "### Question 6: Why do you think it sold the most ?"
   ]
  },
  {
   "cell_type": "code",
   "execution_count": 121,
   "id": "6a8f5d7e",
   "metadata": {},
   "outputs": [
    {
     "data": {
      "text/plain": [
       "Product\n",
       "AAA Batteries (4-pack)           2.99\n",
       "AA Batteries (4-pack)            3.84\n",
       "USB-C Charging Cable            11.95\n",
       "Wired Headphones                11.99\n",
       "Lightning Charging Cable        14.95\n",
       "Bose SoundSport Headphones      99.99\n",
       "20in Monitor                   109.99\n",
       "27in FHD Monitor               149.99\n",
       "Apple Airpods Headphones       150.00\n",
       "Flatscreen TV                  300.00\n",
       "34in Ultrawide Monitor         379.99\n",
       "27in 4K Gaming Monitor         389.99\n",
       "Vareebadd Phone                400.00\n",
       "Google Phone                   600.00\n",
       "LG Washing Machine             600.00\n",
       "LG Dryer                       600.00\n",
       "iPhone                         700.00\n",
       "ThinkPad Laptop                999.99\n",
       "Macbook Pro Laptop            1700.00\n",
       "Name: Price Each, dtype: float64"
      ]
     },
     "execution_count": 121,
     "metadata": {},
     "output_type": "execute_result"
    }
   ],
   "source": [
    "prices = all_data.groupby('Product').mean('Price Each')['Price Each']\n",
    "prices.sort_values()"
   ]
  },
  {
   "cell_type": "markdown",
   "id": "1ecc04f2",
   "metadata": {},
   "source": [
    "#### Ans: Reason is AAA Batteries (4-pack) less is price "
   ]
  },
  {
   "cell_type": "markdown",
   "id": "cc560a51",
   "metadata": {},
   "source": [
    "### Converting the data into csv file for visualisation in power bi"
   ]
  },
  {
   "cell_type": "code",
   "execution_count": 137,
   "id": "45da2152",
   "metadata": {},
   "outputs": [],
   "source": [
    "all_data.to_csv(path + '\\\\Merged_Data_cleaned.csv',index = False)"
   ]
  },
  {
   "cell_type": "code",
   "execution_count": null,
   "id": "4a2a2243",
   "metadata": {},
   "outputs": [],
   "source": []
  }
 ],
 "metadata": {
  "kernelspec": {
   "display_name": "Python 3 (ipykernel)",
   "language": "python",
   "name": "python3"
  },
  "language_info": {
   "codemirror_mode": {
    "name": "ipython",
    "version": 3
   },
   "file_extension": ".py",
   "mimetype": "text/x-python",
   "name": "python",
   "nbconvert_exporter": "python",
   "pygments_lexer": "ipython3",
   "version": "3.11.5"
  }
 },
 "nbformat": 4,
 "nbformat_minor": 5
}
